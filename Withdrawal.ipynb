{
 "cells": [
  {
   "cell_type": "markdown",
   "metadata": {},
   "source": [
    "# **Withdrawal Percentage**"
   ]
  },
  {
   "cell_type": "markdown",
   "metadata": {},
   "source": [
    "## Table of contents<a id='toc0_'></a>    \n",
    "- [Introduction](#toc1_2_)    \n",
    "- [Cleaning the Data](#toc1_3_)    \n",
    "- [Working with the Data](#toc1_4_)    \n",
    "\t- [Calculating Total Deposit and Withdrawal](#toc1_4_1_)    \n",
    "    - [Withdrawal Percentage](#toc1_4_2_)    \n",
    "- [Visualization](#toc1_5_)    \n",
    "- [Conclusion](#toc1_6_)    \n",
    "\n",
    "<!-- vscode-jupyter-toc-config\n",
    "\tnumbering=false\n",
    "\tanchor=true\n",
    "\tflat=false\n",
    "\tminLevel=1\n",
    "\tmaxLevel=6\n",
    "\t/vscode-jupyter-toc-config -->\n",
    "<!-- THIS CELL WILL BE REPLACED ON TOC UPDATE. DO NOT WRITE YOUR TEXT IN THIS CELL -->"
   ]
  },
  {
   "cell_type": "markdown",
   "metadata": {},
   "source": [
    "## <a id='toc1_2_'></a>[Introduction](#toc0_)"
   ]
  },
  {
   "cell_type": "markdown",
   "metadata": {},
   "source": [
    "In this project, I will be working with several datasets to analyze the withdrawal percentage in a trading broker company during August 2022 until July 2023. The brokerage wanted to see <u>the percentage of clients that have withdrawn 100% or more from their total deposit</u>. Moreover, I will need to <u>group the clients based on the city they are from</u>, so the trading broker can evaluate the performance of each branch.\n",
    "\n",
    "I will use pandas to work with the data and I will visualize the final data by using matplotlib."
   ]
  },
  {
   "cell_type": "code",
   "execution_count": 80,
   "metadata": {},
   "outputs": [],
   "source": [
    "#importing necessary libraries\n",
    "import pandas as pd\n",
    "import matplotlib.pyplot as plt"
   ]
  },
  {
   "cell_type": "code",
   "execution_count": 81,
   "metadata": {},
   "outputs": [],
   "source": [
    "#converting the csv files to dataframes by using pandas\n",
    "acc = pd.read_csv('Accounts.csv')\n",
    "ct = pd.read_csv('Closed Trades (Randomized).csv')\n",
    "dw = pd.read_csv('Deposit and Withdrawal.csv')"
   ]
  },
  {
   "cell_type": "markdown",
   "metadata": {},
   "source": [
    "## <a id='toc1_3_'></a>[Cleaning the Data](#toc0_)"
   ]
  },
  {
   "cell_type": "markdown",
   "metadata": {},
   "source": [
    "I created a function to convert the date of the datasets and change the format."
   ]
  },
  {
   "cell_type": "code",
   "execution_count": 82,
   "metadata": {},
   "outputs": [],
   "source": [
    "def convert_datetime(df):\n",
    "    df = pd.to_datetime(\n",
    "            df,\n",
    "            format='%d-%b-%y')\n",
    "    return df"
   ]
  },
  {
   "cell_type": "code",
   "execution_count": 83,
   "metadata": {},
   "outputs": [],
   "source": [
    "#changing the datatype of Login from float to int\n",
    "dw['Login'] = pd.to_numeric(dw['Login'], errors='coerce').fillna(0).astype(int)\n",
    "#changing the dates to date format\n",
    "ct['Open Date'] = convert_datetime(ct['Open Date'])\n",
    "ct['Close Date'] = convert_datetime(ct['Close Date'])\n",
    "dw['Date'] = convert_datetime(dw['Date'])\n"
   ]
  },
  {
   "cell_type": "markdown",
   "metadata": {},
   "source": [
    "## <a id='toc1_4_'></a>[Working with the Data](#toc0_)"
   ]
  },
  {
   "cell_type": "markdown",
   "metadata": {},
   "source": [
    "Firstly, I need to filter the accounts that are made within the time range (Aug 2022 - Jul 2023). I did this by passing the time range and  filtering based on the comment 'Initial' (Ini), which indicates the instance where the clients lodge in their first deposit into their account."
   ]
  },
  {
   "cell_type": "code",
   "execution_count": 84,
   "metadata": {},
   "outputs": [],
   "source": [
    "#filtering new Accounts that are made between 31 July 2022 and 1 Aug 2023\n",
    "time_frame_1='2022-07-31'\n",
    "time_frame_2='2023-08-01'\n",
    "new_acc_Aug22_Jul23= dw[(dw['Date']> time_frame_1)&(dw['Date']< time_frame_2)&(dw['Comment'].isin(['Ini']))]"
   ]
  },
  {
   "cell_type": "markdown",
   "metadata": {},
   "source": [
    "Then I make a variable to store the filtered Deposit and Withdrawal dataframe to only contain new accounts made during Aug 2022 - Jul 2023."
   ]
  },
  {
   "cell_type": "code",
   "execution_count": 85,
   "metadata": {},
   "outputs": [],
   "source": [
    "#filtering the DW dataframe based on the login from the new_acc dataframe\n",
    "dw_time_framed=dw[dw['Login'].isin(new_acc_Aug22_Jul23['Login'])]"
   ]
  },
  {
   "cell_type": "markdown",
   "metadata": {},
   "source": [
    "### <a id='toc1_4_1_'></a>[Calculating Total Deposit and Withdrawal](#toc0_)"
   ]
  },
  {
   "cell_type": "markdown",
   "metadata": {},
   "source": [
    "I calculated the deposit of each account by adding the initial and add margin that the client did during the time period. I also calculated the total withdrawal that is made per account."
   ]
  },
  {
   "cell_type": "code",
   "execution_count": 86,
   "metadata": {},
   "outputs": [],
   "source": [
    "#calculating the total deposit for accounts made between Aug 22 - Jul 23\n",
    "deposit = dw_time_framed[(dw_time_framed['Comment'] == 'Ini') | (dw_time_framed['Comment'] == 'Add')]\\\n",
    "    .groupby(['Login']).agg({'Amount':'sum'})\n",
    "\n",
    "#calculating the total withdrawal for accounts made between Aug 22 - Jul 23\n",
    "wit = dw_time_framed[dw_time_framed['Comment'] == 'Wit']\\\n",
    "    .groupby(['Login']).agg({'Amount':'sum'})"
   ]
  },
  {
   "cell_type": "markdown",
   "metadata": {},
   "source": [
    "I combined the two dataframes into one by Login and clean the data as there are some accounts that have never withdrawn, so I fill the NA rows with 0."
   ]
  },
  {
   "cell_type": "code",
   "execution_count": 87,
   "metadata": {},
   "outputs": [],
   "source": [
    "#combining the deposit and wit dataframes into one dataframe called margin_table based on Login\n",
    "margin_table=deposit.merge(wit, how='left', on='Login').rename(columns={\"Amount_x\":\"Total Deposit\",\"Amount_y\":\"Total Withdrawal\"})\n",
    "margin_table['Total Withdrawal'] = margin_table['Total Withdrawal'].fillna(0)"
   ]
  },
  {
   "cell_type": "markdown",
   "metadata": {},
   "source": [
    "### <a id='toc1_4_2_'></a>[Withdrawal Percentage](#toc0_)"
   ]
  },
  {
   "cell_type": "markdown",
   "metadata": {},
   "source": [
    "I made a new column to calculate the withdrawal percentage by dividing the total withdrawal and total deposit."
   ]
  },
  {
   "cell_type": "code",
   "execution_count": 88,
   "metadata": {},
   "outputs": [],
   "source": [
    "#calculating Withdrawal Percentage and adding it to margin_table\n",
    "margin_table['Withdrawal Percentage'] = margin_table['Total Withdrawal'] / margin_table['Total Deposit'] * -1"
   ]
  },
  {
   "cell_type": "markdown",
   "metadata": {},
   "source": [
    "As I need data about the city each accounts is from, I merged the Accounts dataframe that contains the 'City' column and add it into the margin_table. Then I made a new variable that will store the grouped margin table based on city to see how many accounts are there from each city."
   ]
  },
  {
   "cell_type": "code",
   "execution_count": 89,
   "metadata": {},
   "outputs": [],
   "source": [
    "margin_table=margin_table.merge(acc, how='left', on='Login')\n",
    "margin_table_city = margin_table.groupby(['City']).agg({'Login':'count'})"
   ]
  },
  {
   "cell_type": "markdown",
   "metadata": {},
   "source": [
    "To separate the accounts that have traded and have never traded, I can use the data from the Closed Trade dataset as it contains information about the accounts that have closed their position, hence they have traded. \\\n",
    "I grouped the Closed Trades dataset based on Login and sum all the Profit. Then I merge it to the margin table based on Login. There will be empty cells in the Profit column that indicates the client have opened an account but have never traded, and withdrawn all of their deposit. "
   ]
  },
  {
   "cell_type": "code",
   "execution_count": 90,
   "metadata": {},
   "outputs": [],
   "source": [
    "trading = ct.groupby(['Login']).agg({'Profit':'sum'})\n",
    "margin_table=margin_table.merge(trading, how='left', on='Login')\n",
    "margin_table['Profit'] = margin_table['Profit'].fillna(\"Has never traded\")"
   ]
  },
  {
   "cell_type": "markdown",
   "metadata": {},
   "source": [
    "Then I filter the margin table for accounts that have traded and withdrawn 100% or more from their total deposit.\n",
    "Then I grouped the table based on City to see the amount of clients in that city that fit into this category."
   ]
  },
  {
   "cell_type": "code",
   "execution_count": 91,
   "metadata": {},
   "outputs": [],
   "source": [
    "#filtering the accounts that have witndrawn 100% of their total deposit and have traded.\n",
    "withdrawed_100_traded=margin_table[(margin_table['Withdrawal Percentage']>=1)&(margin_table['Profit']!='Has never traded')]\n",
    "withdrawed_100_traded_city = withdrawed_100_traded.groupby(['City']).agg({'Login':'count'})"
   ]
  },
  {
   "cell_type": "markdown",
   "metadata": {},
   "source": [
    "To see the total percentage of clients that have withdrawn per city, I need the data of the total clients in each city. So I merged the total clients per City from the margin_table_city dataframe with withdrawed_100_traded_city dataframe. \\\n",
    "Then I calculated the percentage by simply dividing the the clients that have withdrawn and the total clients in every city."
   ]
  },
  {
   "cell_type": "code",
   "execution_count": 92,
   "metadata": {},
   "outputs": [
    {
     "data": {
      "text/html": [
       "<div>\n",
       "<style scoped>\n",
       "    .dataframe tbody tr th:only-of-type {\n",
       "        vertical-align: middle;\n",
       "    }\n",
       "\n",
       "    .dataframe tbody tr th {\n",
       "        vertical-align: top;\n",
       "    }\n",
       "\n",
       "    .dataframe thead th {\n",
       "        text-align: right;\n",
       "    }\n",
       "</style>\n",
       "<table border=\"1\" class=\"dataframe\">\n",
       "  <thead>\n",
       "    <tr style=\"text-align: right;\">\n",
       "      <th></th>\n",
       "      <th>City</th>\n",
       "      <th>Total Customer</th>\n",
       "      <th>Total Withdrawal</th>\n",
       "      <th>Withdraw Percentage</th>\n",
       "    </tr>\n",
       "  </thead>\n",
       "  <tbody>\n",
       "    <tr>\n",
       "      <th>0</th>\n",
       "      <td>A</td>\n",
       "      <td>144</td>\n",
       "      <td>14</td>\n",
       "      <td>9.722222</td>\n",
       "    </tr>\n",
       "    <tr>\n",
       "      <th>1</th>\n",
       "      <td>B</td>\n",
       "      <td>165</td>\n",
       "      <td>22</td>\n",
       "      <td>13.333333</td>\n",
       "    </tr>\n",
       "    <tr>\n",
       "      <th>2</th>\n",
       "      <td>C</td>\n",
       "      <td>11</td>\n",
       "      <td>2</td>\n",
       "      <td>18.181818</td>\n",
       "    </tr>\n",
       "    <tr>\n",
       "      <th>3</th>\n",
       "      <td>D</td>\n",
       "      <td>317</td>\n",
       "      <td>33</td>\n",
       "      <td>10.410095</td>\n",
       "    </tr>\n",
       "    <tr>\n",
       "      <th>4</th>\n",
       "      <td>G</td>\n",
       "      <td>27</td>\n",
       "      <td>6</td>\n",
       "      <td>22.222222</td>\n",
       "    </tr>\n",
       "    <tr>\n",
       "      <th>5</th>\n",
       "      <td>J</td>\n",
       "      <td>113</td>\n",
       "      <td>8</td>\n",
       "      <td>7.079646</td>\n",
       "    </tr>\n",
       "    <tr>\n",
       "      <th>6</th>\n",
       "      <td>K</td>\n",
       "      <td>110</td>\n",
       "      <td>16</td>\n",
       "      <td>14.545455</td>\n",
       "    </tr>\n",
       "    <tr>\n",
       "      <th>7</th>\n",
       "      <td>M</td>\n",
       "      <td>2210</td>\n",
       "      <td>215</td>\n",
       "      <td>9.728507</td>\n",
       "    </tr>\n",
       "    <tr>\n",
       "      <th>8</th>\n",
       "      <td>N</td>\n",
       "      <td>93</td>\n",
       "      <td>13</td>\n",
       "      <td>13.978495</td>\n",
       "    </tr>\n",
       "    <tr>\n",
       "      <th>9</th>\n",
       "      <td>O</td>\n",
       "      <td>111</td>\n",
       "      <td>19</td>\n",
       "      <td>17.117117</td>\n",
       "    </tr>\n",
       "    <tr>\n",
       "      <th>10</th>\n",
       "      <td>P</td>\n",
       "      <td>182</td>\n",
       "      <td>32</td>\n",
       "      <td>17.582418</td>\n",
       "    </tr>\n",
       "    <tr>\n",
       "      <th>11</th>\n",
       "      <td>Q</td>\n",
       "      <td>57</td>\n",
       "      <td>6</td>\n",
       "      <td>10.526316</td>\n",
       "    </tr>\n",
       "  </tbody>\n",
       "</table>\n",
       "</div>"
      ],
      "text/plain": [
       "   City  Total Customer  Total Withdrawal  Withdraw Percentage\n",
       "0     A             144                14             9.722222\n",
       "1     B             165                22            13.333333\n",
       "2     C              11                 2            18.181818\n",
       "3     D             317                33            10.410095\n",
       "4     G              27                 6            22.222222\n",
       "5     J             113                 8             7.079646\n",
       "6     K             110                16            14.545455\n",
       "7     M            2210               215             9.728507\n",
       "8     N              93                13            13.978495\n",
       "9     O             111                19            17.117117\n",
       "10    P             182                32            17.582418\n",
       "11    Q              57                 6            10.526316"
      ]
     },
     "execution_count": 92,
     "metadata": {},
     "output_type": "execute_result"
    }
   ],
   "source": [
    "margin_percentage = margin_table_city.merge(withdrawed_100_traded_city, how='left', on='City').rename(columns={\"Login_x\":\"Total Customer\",\"Login_y\":\"Total Withdrawal\"})\n",
    "margin_percentage['Withdraw Percentage'] = margin_percentage['Total Withdrawal'] / margin_percentage['Total Customer'] * 100\n",
    "margin_percentage=margin_percentage.reset_index()\n",
    "margin_percentage"
   ]
  },
  {
   "cell_type": "markdown",
   "metadata": {},
   "source": [
    "## <a id='toc1_5_'></a>[Visualization](#toc0_)"
   ]
  },
  {
   "cell_type": "markdown",
   "metadata": {},
   "source": [
    "To visualize the final dataframe, I use matplotlib and I decided to visualize it with a bar chart.\\\n",
    "I pass in the parameter from the dataframe with 'City' as the X-axis and 'Withdraw Percentage' as the Y-axis."
   ]
  },
  {
   "cell_type": "code",
   "execution_count": 93,
   "metadata": {},
   "outputs": [
    {
     "data": {
      "image/png": "[encoded data removed]",
      "text/plain": [
       "<Figure size 800x800 with 1 Axes>"
      ]
     },
     "metadata": {},
     "output_type": "display_data"
    }
   ],
   "source": [
    "fig = plt.figure(figsize = (8, 8))\n",
    "plt.bar(margin_percentage['City'], margin_percentage['Withdraw Percentage'],\n",
    "        width=0.6)\n",
    "\n",
    "plt.xlabel(\"City\")\n",
    "plt.ylabel(\"Withdrawal Percentage\")\n",
    "plt.title(\"Withdrawal Percentage per City\")\n",
    "plt.show()"
   ]
  },
  {
   "cell_type": "markdown",
   "metadata": {},
   "source": [
    "## <a id='toc1_6_'></a>[Conclusion](#toc0_)"
   ]
  },
  {
   "cell_type": "markdown",
   "metadata": {},
   "source": [
    "Based on the graph, I can conclude that **City 'G' has the most percentage of clients that have traded and withdrawn 100% of their total deposit** while City 'J' has the least percentage of clients that have withdrawn. \\\n",
    "I can suggest the brokerage that <u>City G might need to improve their retention</u> to maintain the clients and prevent them from withdrawing or closing their accounts. "
   ]
  }
 ],
 "metadata": {
  "kernelspec": {
   "display_name": "Python 3",
   "language": "python",
   "name": "python3"
  },
  "language_info": {
   "codemirror_mode": {
    "name": "ipython",
    "version": 3
   },
   "file_extension": ".py",
   "mimetype": "text/x-python",
   "name": "python",
   "nbconvert_exporter": "python",
   "pygments_lexer": "ipython3",
   "version": "3.10.11"
  },
  "orig_nbformat": 4
 },
 "nbformat": 4,
 "nbformat_minor": 2
}
